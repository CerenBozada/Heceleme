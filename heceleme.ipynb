{
 "cells": [
  {
   "cell_type": "code",
   "execution_count": 38,
   "metadata": {},
   "outputs": [
    {
     "name": "stdout",
     "output_type": "stream",
     "text": [
      "['saa', 'det']\n"
     ]
    }
   ],
   "source": [
    "import dizge\n",
    "words = dizge.syllable_o(\"saadet\")\n",
    "print(words)\n"
   ]
  },
  {
   "cell_type": "code",
   "execution_count": 51,
   "metadata": {},
   "outputs": [
    {
     "name": "stdout",
     "output_type": "stream",
     "text": [
      "kalemliklerimiz\n",
      "CVCVCCVCCVCVCVC\n",
      "['ka', 'le', 'mli', 'kle', 'ri', 'miz']\n"
     ]
    }
   ],
   "source": [
    "text = \"kalemliklerimiz\"\n",
    "unluler =\"aeıioöuü\"\n",
    "patterns =[\"CVCC\",\"CCV\",\"VCC\",\"CVC\",\"CV\",\"VC\",\"V\"]\n",
    "def isV(x):\n",
    "    return x in unluler\n",
    "def countVs(string):\n",
    "    count = 0\n",
    "    for c in string:\n",
    "        if isV(c):\n",
    "            count+=1\n",
    "    return count\n",
    "\n",
    "mask = \"\".join([ isV(x) and \"V\" or \"C\" for x in text])\n",
    "\n",
    "length = len(text)\n",
    "active_text = text\n",
    "print(text)\n",
    "print(mask)\n",
    "slice = []\n",
    "while True:\n",
    "    vcount = countVs(active_text)\n",
    "    if vcount== 1:\n",
    "        slice.insert(0,active_text)\n",
    "        break\n",
    "    elif vcount == 0:\n",
    "        break \n",
    "    else:\n",
    "        for pattern in patterns:\n",
    "            pattern_length = len(pattern)\n",
    "            if mask.endswith(pattern):\n",
    "                slice.insert(0,active_text[-pattern_length:])\n",
    "                active_text =  active_text[0:-pattern_length]\n",
    "                mask = mask[0:-pattern_length]\n",
    "                break\n",
    "print(slice)"
   ]
  },
  {
   "cell_type": "code",
   "execution_count": 52,
   "metadata": {},
   "outputs": [
    {
     "name": "stdout",
     "output_type": "stream",
     "text": [
      "CCCCCCCCCCCCCC\n",
      "TÜRKLERİMİZDEN\n",
      "CCCCCCCCCCCCCC\n",
      "no left TÜRKLERİMİZDEN\n",
      "[]\n"
     ]
    }
   ],
   "source": [
    "text = \"TÜRKLERİMİZDEN\"\n",
    "unluler =\"aeıioöuü\"\n",
    "patterns =[\"CVCC\",\"CCV\",\"VCC\",\"CVC\",\"CV\",\"VC\",\"V\"]\n",
    "\n",
    "def isV(x):\n",
    "    return x in unluler\n",
    "def countVs(string):\n",
    "    count = 0\n",
    "    for c in string:\n",
    "        if isV(c):\n",
    "            count+=1\n",
    "    return count\n",
    "\n",
    "mask = \"\".join([ isV(x) and \"V\" or \"C\" for x in text])\n",
    "print(mask)\n",
    "length = len(text)\n",
    "active_text = text\n",
    "print(text)\n",
    "print(mask)\n",
    "slice = []\n",
    "while True:\n",
    "    vcount = countVs(active_text)\n",
    "    if vcount== 1:\n",
    "        slice.append(active_text)\n",
    "\n",
    "        #print(\"only\")\n",
    "        break\n",
    "    elif vcount == 0:\n",
    "        \n",
    "        print(\"no left\",active_text)\n",
    "        break \n",
    "    else:\n",
    "        for pattern in patterns:\n",
    "            pattern_length = len(pattern)\n",
    "            if mask.startswith(pattern):\n",
    "                #print(mask)\n",
    "                slice.append(active_text[:pattern_length])\n",
    "                active_text =  active_text[pattern_length:]\n",
    "                mask = mask[pattern_length:]\n",
    "                #print(active_text)\n",
    "                break\n",
    "    print(active_text)\n",
    "    print(slice)\n",
    "print(slice)\n",
    "\n",
    "\n",
    "\n"
   ]
  },
  {
   "cell_type": "code",
   "execution_count": 55,
   "metadata": {},
   "outputs": [
    {
     "name": "stdout",
     "output_type": "stream",
     "text": [
      "VCCVCCVCVCVVCCVCCVCVCVCVCCVCVCVCCVCCVCVCVCV\n"
     ]
    }
   ],
   "source": [
    "text = \"afyonkarasiarlaştıramadıklarımızdanmışasına\".lower()\n",
    "unluler =\"aeıioöuü\"\n",
    "patterns =[\"CVCC\",\"CCV\",\"VCC\",\"CVC\",\"CV\",\"VC\",\"V\"]\n",
    "\n",
    "def isV(x):\n",
    "    return x in unluler\n",
    "def countVs(string):\n",
    "    count = 0\n",
    "    for c in string:\n",
    "        if isV(c):\n",
    "            count+=1\n",
    "    return count\n",
    "\n",
    "def maskx(text):\n",
    "    return  \"\".join([ isV(x) and \"V\" or x == \" \" and \" \" or \"C\" for x in text])\n",
    "\n",
    "mask = maskx(text)\n",
    "print(mask)\n",
    "length = len(text)\n",
    "active_text = text\n",
    "\n",
    "\n",
    "\n",
    "        "
   ]
  },
  {
   "cell_type": "code",
   "execution_count": 7,
   "metadata": {},
   "outputs": [
    {
     "name": "stdout",
     "output_type": "stream",
     "text": [
      "VC CVCCVCVCVVCCVCCVCVCVCVCCVCVCVCCVCCVCVCVCV\n",
      "VC CVC CVCVCVVCCVCCVCVCVCVCCVCVCVCCVCCVCVCVCV\n",
      "VC CVC CVCVCVVC CVCCVCVCVCVCCVCVCVCCVCCVCVCVCV\n",
      "VC CVC CVCVCVVC CVC CVCVCVCVCCVCVCVCCVCCVCVCVCV\n",
      "VC CVC CVCVCVVC CVC CVCVCVCVC CVCVCVCCVCCVCVCVCV\n",
      "VC CVC CVCVCVVC CVC CVCVCVCVC CVCVCVC CVCCVCVCVCV\n",
      "VC CVC CVCVCVVC CVC CVCVCVCVC CVCVCVC CVC CVCVCVCV\n",
      "VC CVC CVCVCVVC CVC CVCVCVCVC CVCVCVC CVC CVCVCVCV\n",
      "af yon karasiha rla ştıramadı klarımı zda nmışçasına\n"
     ]
    }
   ],
   "source": [
    "a =\"VCCVCCVCVCVVCCVCCVCVCVCVCCVCVCVCCVCCVCVCVCV\"\n",
    "text = \"afyonkarasiharlaştıramadıklarımızdanmışçasına\".lower()\n",
    "while False:\n",
    "    index = a.find(\"CCCC\")\n",
    "    if index != -1:\n",
    "        a = a[:index+2] + \" \" + a[index+2:]\n",
    "        text = text[:index+2] + \" \" + text[index+2:]\n",
    "        print(a)\n",
    "    else:\n",
    "        break\n",
    "\n",
    "while False:\n",
    "    index = a.find(\"CCC\")\n",
    "    if index != -1:\n",
    "        a = a[:index+2] + \" \" + a[index+2:]\n",
    "        text = text[:index+2] + \" \" + text[index+2:]\n",
    "    else:\n",
    "        break\n",
    "\n",
    "while True:\n",
    "    index = a.find(\"CC\")\n",
    "    if index != -1:\n",
    "        a = a[:index+1] + \" \" + a[index+1:]\n",
    "        text = text[:index+1] + \" \" + text[index+1:]\n",
    "        print(a)\n",
    "    else:\n",
    "        break\n",
    "print(a)\n",
    "print(text)"
   ]
  },
  {
   "cell_type": "code",
   "execution_count": 2,
   "metadata": {},
   "outputs": [
    {
     "name": "stdout",
     "output_type": "stream",
     "text": [
      "af-yon-ka-ra-si-har-laş-tı-ra-ma-dık-la-rı-mız-dan-mış-ça-sı-na\n"
     ]
    }
   ],
   "source": [
    "from nltk.tokenize import RegexpTokenizer\n",
    "token=RegexpTokenizer(r'\\w+')\n",
    "\n",
    "unluler =\"aeıioöuü\"\n",
    "text =\"pazarlık\"\n",
    "odev = \"afyonkarasiharlaştıramadıklarımızdanmışçasına\"\n",
    "text_tokens = token.tokenize(odev)\n",
    "def isV(x) -> bool:\n",
    "    return x in unluler\n",
    "\n",
    "def findVIndexCount(text):\n",
    "    return  [pos for (pos,char) in enumerate(text) if isV(char)]\n",
    "def splitt(text,index) -> tuple :\n",
    "    return (text[:index] , text[index:])\n",
    "\n",
    "def hecele(text):\n",
    "   \n",
    "    \n",
    "    heceler = []\n",
    "    \n",
    "    while True:\n",
    "        positions =  findVIndexCount(text)\n",
    "        if  len(positions) <= 1:\n",
    "            if text != \"\":\n",
    "                heceler.append(text)\n",
    "            break\n",
    "        pos = positions[0]\n",
    "        try:\n",
    "            left =  ()\n",
    "            if isV(text[pos+1]): \n",
    "                if text[pos] == text[pos+1]: \n",
    "                    left = splitt(text,pos+2)\n",
    "                else: \n",
    "                    left = splitt(text,pos+1)\n",
    "            elif isV(text[pos+2]):     \n",
    "                left = splitt(text,pos+1) \n",
    "            elif isV(text[pos+3]):\n",
    "                left = splitt(text,pos+2)       \n",
    "            elif text[pos+1:pos+4] in [\"str\",\"ktr\",\"ctr\",\"ntr\"]: \n",
    "                left = splitt(text,pos+2)\n",
    "                print(\"a\")\n",
    "            else:\n",
    "                print(\"b\")\n",
    "                left = splitt(text,pos+3)\n",
    "                \n",
    "            \n",
    "            heceler.append(left[0])\n",
    "\n",
    "            print(left)\n",
    "            text = left[1]\n",
    "           \n",
    "        except:\n",
    "            print(\"faulty break\")\n",
    "            break\n",
    "   \n",
    "    return \"-\".join(heceler)\n",
    "\n",
    "print(\" \".join([hecele(word.lower()) for word in text_tokens]))\n",
    "\n"
   ]
  }
 ],
 "metadata": {
  "kernelspec": {
   "display_name": "Python 3.8.9 64-bit",
   "language": "python",
   "name": "python3"
  },
  "language_info": {
   "codemirror_mode": {
    "name": "ipython",
    "version": 3
   },
   "file_extension": ".py",
   "mimetype": "text/x-python",
   "name": "python",
   "nbconvert_exporter": "python",
   "pygments_lexer": "ipython3",
   "version": "3.8.9"
  },
  "orig_nbformat": 4,
  "vscode": {
   "interpreter": {
    "hash": "31f2aee4e71d21fbe5cf8b01ff0e069b9275f58929596ceb00d14d90e3e16cd6"
   }
  }
 },
 "nbformat": 4,
 "nbformat_minor": 2
}
